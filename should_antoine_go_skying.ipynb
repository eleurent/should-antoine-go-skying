{
  "nbformat": 4,
  "nbformat_minor": 0,
  "metadata": {
    "colab": {
      "name": "Should Antoine go skying?",
      "provenance": [],
      "collapsed_sections": [],
      "authorship_tag": "ABX9TyPuf4FBEwlmriYLI445/VR7"
    },
    "kernelspec": {
      "name": "python3",
      "display_name": "Python 3"
    },
    "language_info": {
      "name": "python"
    }
  },
  "cells": [
    {
      "cell_type": "markdown",
      "metadata": {
        "id": "7rYqeA8aLYdB"
      },
      "source": [
        "## Parameters\n",
        "\n",
        "Fill them **BEFORE** running the rest! Do it honestly, and don't cheat."
      ]
    },
    {
      "cell_type": "code",
      "metadata": {
        "id": "OXOp8lr3I5Yp"
      },
      "source": [
        "week_duration = 7            # Days\n",
        "accident_probability = 0.03  # Daily\n",
        "ski_reward = 100             # Daily, if no accident\n",
        "accident_penalty = -500      # Terminal penalty, if accident\n",
        "risk_alpha = 0.1             # Risk level"
      ],
      "execution_count": null,
      "outputs": []
    },
    {
      "cell_type": "markdown",
      "metadata": {
        "id": "KmphIq7_LnV5"
      },
      "source": [
        "## Here's what you should do:"
      ]
    },
    {
      "cell_type": "code",
      "metadata": {
        "id": "khyqUqFaI0J-"
      },
      "source": [
        "import numpy as np\n",
        "from sympy.stats import Bernoulli, density\n",
        "from matplotlib import pyplot as plt\n",
        "\n",
        "accidents = [Bernoulli(f'X{i}', accident_probability) for i in range(week_duration)]\n",
        "value = 0\n",
        "for accident in reversed(accidents):\n",
        "    value = (1 - accident) * (ski_reward + value) + accident * accident_penalty\n",
        "\n",
        "d = density(value)\n",
        "x = sorted(list(d.keys()))\n",
        "pmf = [d[k] for k in x]\n",
        "cdf = np.cumsum(pmf)\n",
        "VaR = x[np.argmax(cdf >= risk_alpha)]\n",
        "\n",
        "plt.bar([str(i) for i in x], pmf, label=\"pmf\", alpha=0.5)\n",
        "plt.step([str(i) for i in x], cdf, where='post', label=\"cdf\", linewidth=2)\n",
        "plt.axhline(y=risk_alpha, color='r', label=\"VaR\", linestyle='--')\n",
        "plt.axvline(x=np.argmax(cdf >= risk_alpha), color='r', linestyle='--')\n",
        "plt.xlabel(\"Value\")\n",
        "plt.ylabel(\"Probability\")\n",
        "plt.legend()\n",
        "plt.show()\n",
        "\n",
        "# print(f\"Value at Risk of going skying: {VaR}\")\n",
        "print(f\"You definitely {'SHOULD' if VaR > 0 else 'SHOULD NOT'} go skying!\")"
      ],
      "execution_count": null,
      "outputs": []
    }
  ]
}
